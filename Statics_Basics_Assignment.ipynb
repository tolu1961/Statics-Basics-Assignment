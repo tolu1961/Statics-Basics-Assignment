{
  "nbformat": 4,
  "nbformat_minor": 0,
  "metadata": {
    "colab": {
      "provenance": []
    },
    "kernelspec": {
      "name": "python3",
      "display_name": "Python 3"
    },
    "language_info": {
      "name": "python"
    }
  },
  "cells": [
    {
      "cell_type": "markdown",
      "source": [
        "# ***`Statistics Basics| Assignment`***"
      ],
      "metadata": {
        "id": "dpot3O_Uop2Y"
      }
    },
    {
      "cell_type": "markdown",
      "source": [
        "Question 1: What is the difference between descriptive statistics and inferential statistics? Explain with examples."
      ],
      "metadata": {
        "id": "kNi93-WgoxZe"
      }
    },
    {
      "cell_type": "markdown",
      "source": [
        "Answers:\n",
        "              The differences between descriptive statistics and inferential statistics lies in their purpose and the type of conclusions they allow you to draw.\n",
        "\n",
        "Descriptive Statistics\n",
        "Descripitive statistics summarize and describe the main features of a dataset.they do not make predictions or generalization beyond the data at hand.\n",
        "Purpose: To present data in a meaningful ways so it can be understood easily.\n",
        "Common Measures:\n",
        "\n",
        "      > Measures of central Tendency:Mean,Meadian,Mode.\n",
        "      > Measures of dispersions:Range,Variance,Standard,pie charts.\n",
        "      > Graphs and Charts: Bar charts, histograms,pie charts.\n",
        "  -   Examples::\n",
        "                       \n",
        "    > A teacher records the marks of 50 student in an exam and Calculates.\n",
        "        -  Average(Mean) = 72\n",
        "\n",
        "        -    Highest Score = 95\n",
        "\n",
        "        - Lowest Score = 4\n",
        "\n",
        "\n",
        "Inferential Statistics\n",
        "Inferential statics use sample data to make generalizations, predictions, or decisions about  a large population.\n",
        "Purpose: To infer patterns and relationships beyond the sample.\n",
        "Techniques: Hypothesis testings, confidence intervals, regressions analysis, ANOVA.\n",
        "\n",
        "Examples:-\n",
        "\n",
        "A researcher takes a sample of 100 voters from a city and finds 60% support Candidate A.\n",
        "\n",
        "Using inferential statistics, the researcher estimates that around 60% of all voters in the city support Candidate A, within a certain margin of error.\n",
        "Here, the conclusion is about a population, not just the sample.\n"
      ],
      "metadata": {
        "id": "KrNpMGHvo1D3"
      }
    },
    {
      "cell_type": "code",
      "source": [],
      "metadata": {
        "id": "RP_zo3oEplN0"
      },
      "execution_count": null,
      "outputs": []
    },
    {
      "cell_type": "markdown",
      "source": [
        "**Question 2:** What is sampling in statistics? Explain the differences between random and stratified sampling.\n"
      ],
      "metadata": {
        "id": "i0TWss-NpW7M"
      }
    },
    {
      "cell_type": "markdown",
      "source": [
        "Answers:\n",
        "                Sampling is the process of selecting a subset (sample) from a larger group (population) to analyze and draw conclusions about the entire population.\n",
        "Instead of studying every member (which can be costly and time-consuming), we take a sample that represents the population.\n",
        "\n",
        "Types of Sampling: Random vs. Stratified\n",
        "1. Random Sampling\n",
        "Definition: Every individual in the population has an equal chance of being selected.\n",
        "\n",
        "\n",
        "Method: Simple random selection (like picking names from a hat or using a random number generator).\n",
        "\n",
        "\n",
        "Advantages:\n",
        "\n",
        "\n",
        "Easy to implement.\n",
        "\n",
        "\n",
        "Minimizes selection bias.\n",
        "\n",
        "\n",
        "Disadvantages:\n",
        "\n",
        "\n",
        "May not represent subgroups well if they are very different.\n",
        "\n",
        "\n",
        "Example:\n",
        " You have 1,000 students in a college. You randomly pick 100 students using a random number generator.\n",
        " Every student had an equal chance to be selected.\n",
        "\n",
        "\n",
        "2. Stratified Sampling\n",
        "Definition: The population is divided into subgroups (strata) based on specific characteristics (e.g., gender, age, income). Then random samples are taken from each stratum in proportion to its size.\n",
        "Advantages:\n",
        "\n",
        "\n",
        "Provides more accurate representation of the population.\n",
        "Reduces variability compared to simple random sampling.\n",
        "\n",
        "\n",
        "Disadvantages:\n",
        "\n",
        "\n",
        "More complex to organize and analyze.\n",
        "\n",
        "\n",
        "Example:\n",
        " The same 1,000-student college has:\n",
        "\n",
        "\n",
        "600 males and 400 females.\n",
        " Instead of picking 100 students randomly (which might give 80 males and 20 females), you divide into two groups and select:\n",
        "\n",
        "\n",
        "60 males\n",
        "\n",
        "\n",
        "40 females\n",
        " This ensures proportional representation."
      ],
      "metadata": {
        "id": "JaNPwNHNpafD"
      }
    },
    {
      "cell_type": "code",
      "execution_count": null,
      "metadata": {
        "id": "ECWvJUvqofm0"
      },
      "outputs": [],
      "source": []
    },
    {
      "cell_type": "markdown",
      "source": [
        "**Question 3:** Define mean, median, and mode. Explain why these measures of central tendencyare important."
      ],
      "metadata": {
        "id": "VollBbM4pnZ6"
      }
    },
    {
      "cell_type": "markdown",
      "source": [
        " **Answers:** Definitions of Mean, Median, and Mode\n",
        "1. Mean (Arithmetic Average)\n",
        "Definition: The sum of all values divided by the number of values.\n",
        "\n",
        "\n",
        "Formula:\n",
        " Mean=Sum of all valuesNumber of values\\text{Mean} = \\frac{\\text{Sum of all values}}{\\text{Number of values}}Mean=Number of valuesSum of all values​\n",
        "Example:\n",
        " For the numbers 5, 10, 15:\n",
        " Mean=5+10+153=10\\text{Mean} = \\frac{5+10+15}{3} = 10Mean=35+10+15​=10\n",
        "2. Median\n",
        "Definition: The middle value when the data is arranged in ascending or descending order.\n",
        "\n",
        "\n",
        "If there’s an odd number of values → middle one.\n",
        "\n",
        "\n",
        "If there’s an even number → average of the two middle values.\n",
        "\n",
        "\n",
        "Example:\n",
        " Data: 4, 8, 10, 15, 20 → Median = 10\n",
        " Data: 4, 8, 10, 15 → Median = (8+10)/2 = 9\n",
        "\n",
        "\n",
        "3. Mode\n",
        "Definition: The value that occurs most frequently in the dataset.\n",
        "\n",
        "\n",
        "Example:\n",
        " Data: 2, 4, 4, 6, 8 → Mode = 4\n",
        " If no number repeats → no mode; if multiple repeat → multimodal."
      ],
      "metadata": {
        "id": "QS_kvbAspzsa"
      }
    },
    {
      "cell_type": "code",
      "source": [],
      "metadata": {
        "id": "8Zn7BSeUpzIX"
      },
      "execution_count": null,
      "outputs": []
    },
    {
      "cell_type": "markdown",
      "source": [
        "**Question 4:** Explain skewness and kurtosis. What does a positive skew imply about the data?   "
      ],
      "metadata": {
        "id": "lcCXAc_ip6pf"
      }
    },
    {
      "cell_type": "markdown",
      "source": [
        "**Answers:**  1. Skewness\n",
        "Definition: Skewness measures the asymmetry of a distribution compared to a normal (bell-shaped) distribution.\n",
        "Types of Skewness:\n",
        "Zero Skewness: Perfectly symmetric (normal distribution).\n",
        "Positive Skew (Right-Skewed): Tail is longer on the right side.\n",
        "Negative Skew (Left-Skewed): Tail is longer on the left side.\n",
        "\n",
        "\n",
        "\n",
        "2. Kurtosis\n",
        "Definition: Kurtosis measures the “peakedness” or flatness of a distribution compared to a normal distribution.\n",
        "Types of Kurtosis:\n",
        "Mesokurtic: Normal peak (kurtosis ≈ 3).\n",
        "Leptokurtic: Tall and sharp peak (kurtosis > 3).\n",
        "Platykurtic: Flat peak (kurtosis < 3).\n",
        "       > What Does a Positive Skew Imply?\n",
        "In positive skew:\n",
        "\n",
        "\n",
        "The tail on the right side is longer.\n",
        "\n",
        "\n",
        "Mean > Median > Mode (pulled by high extreme values).\n",
        "\n",
        "\n",
        "Interpretation: Most data points are concentrated on the lower end, but there are a few very high values.\n",
        "\n",
        "\n",
        "Example:\n",
        "\n",
        "\n",
        "Income distribution: Most people earn modest salaries, but a few earn extremely high amounts → right-skewed.\n"
      ],
      "metadata": {
        "id": "UWf9Xayjp_P0"
      }
    },
    {
      "cell_type": "markdown",
      "source": [
        "**Question 5:** Implement a Python program to compute the mean, median, and mode of a given list of numbers. numbers = [12, 15, 12, 18, 19, 12, 20, 22, 19, 19, 24, 24, 24, 26, 28] ?"
      ],
      "metadata": {
        "id": "yBAyF3KvqJ5V"
      }
    },
    {
      "cell_type": "code",
      "source": [
        "import statistics\n",
        "\n",
        "# Given list of numbers\n",
        "numbers = [12, 15, 12, 18, 19, 12, 20, 22, 19, 19, 24, 24, 24, 26, 28]\n",
        "\n",
        "# Compute mean, median, and mode\n",
        "mean = statistics.mean(numbers)\n",
        "median = statistics.median(numbers)\n",
        "mode = statistics.mode(numbers)\n",
        "\n",
        "# Display results\n",
        "print(f\"Mean: {mean}\")\n",
        "print(f\"Median: {median}\")\n",
        "print(f\"Mode: {mode}\")\n"
      ],
      "metadata": {
        "colab": {
          "base_uri": "https://localhost:8080/"
        },
        "id": "9AgxsOvmp-p1",
        "outputId": "d3a8cca3-5394-464b-87a0-d3f3753f23db"
      },
      "execution_count": 1,
      "outputs": [
        {
          "output_type": "stream",
          "name": "stdout",
          "text": [
            "Mean: 19.6\n",
            "Median: 19\n",
            "Mode: 12\n"
          ]
        }
      ]
    },
    {
      "cell_type": "markdown",
      "source": [
        "**Question6:** Compute the covariance and correlation coefficient between the following\n",
        "two datasets provided as lists in Python:\n",
        "\n",
        "list_x = [10, 20, 30, 40, 50]\n",
        "\n",
        "list_y = [15, 25, 35, 45, 60]"
      ],
      "metadata": {
        "id": "WOegu85sqfpF"
      }
    },
    {
      "cell_type": "code",
      "source": [
        "import numpy as np\n",
        "\n",
        "list_x = [10, 20, 30, 40, 50]\n",
        "list_y = [15, 25, 35, 45, 60]\n",
        "\n",
        "# Using NumPy\n",
        "cov_matrix = np.cov(list_x, list_y, ddof=0)  # ddof=0 for population covariance\n",
        "covariance = cov_matrix[0][1]\n",
        "\n",
        "print(\"Covariance:\", covariance)"
      ],
      "metadata": {
        "colab": {
          "base_uri": "https://localhost:8080/"
        },
        "id": "xh_kse8oqc3r",
        "outputId": "f7e09562-5526-4a71-f7e5-0facbf71ab69"
      },
      "execution_count": 2,
      "outputs": [
        {
          "output_type": "stream",
          "name": "stdout",
          "text": [
            "Covariance: 220.0\n"
          ]
        }
      ]
    },
    {
      "cell_type": "markdown",
      "source": [
        "**Question7:** Write a Python script to draw a boxplot for the following numeric list and\n",
        "identify its outliers. Explain the result:\n",
        "\n",
        "data = [12, 14, 14, 15, 18, 19, 19, 21, 22, 22, 23, 23, 24, 26, 29, 35]"
      ],
      "metadata": {
        "id": "XPF-2I__rSAr"
      }
    },
    {
      "cell_type": "code",
      "source": [
        "import matplotlib.pyplot as plt\n",
        "import seaborn as sns\n",
        "\n",
        "# Data\n",
        "data = [12, 14, 14, 15, 18, 19, 19, 21, 22, 22, 23, 23, 24, 26, 29, 35]\n",
        "\n",
        "# Create boxplot\n",
        "plt.figure(figsize=(8, 4))\n",
        "sns.boxplot(data=data, orient='h', color='darkblue')\n",
        "\n",
        "# Add title and labels\n",
        "plt.title(\"Boxplot of Numeric Data\")\n",
        "plt.xlabel(\"Value\")\n",
        "\n",
        "plt.show()"
      ],
      "metadata": {
        "colab": {
          "base_uri": "https://localhost:8080/",
          "height": 410
        },
        "id": "SY-ua5LArKBZ",
        "outputId": "5e1e5ed0-6bcf-4bcc-a62a-1584e5d54ca5"
      },
      "execution_count": 3,
      "outputs": [
        {
          "output_type": "display_data",
          "data": {
            "text/plain": [
              "<Figure size 800x400 with 1 Axes>"
            ],
            "image/png": "[encoded data removed]"
          },
          "metadata": {}
        }
      ]
    },
    {
      "cell_type": "code",
      "source": [],
      "metadata": {
        "id": "ndsYc7_QrrvH"
      },
      "execution_count": null,
      "outputs": []
    },
    {
      "cell_type": "markdown",
      "source": [
        " **Question 8:** You are working as a data analyst in an e-commerce company. The\n",
        "marketing team wants to know if there is a relationship between advertising spend and daily sales.\n",
        "\n",
        "● Explain how you would use covariance and correlation to explore this\n",
        "relationship.\n",
        "\n",
        "● Write Python code to compute the correlation between the two lists:\n",
        "\n",
        "advertising_spend = [200, 250, 300, 400, 500]   \n",
        "\n",
        "daily_sales = [2200, 2450, 2750, 3200, 4000]\n"
      ],
      "metadata": {
        "id": "6Ymf6Y8Lrxne"
      }
    },
    {
      "cell_type": "markdown",
      "source": [
        "**ANSWERS:**\n",
        "\n",
        "How Covariance and Correlation Help\n",
        "\n",
        "**Covariance**\n",
        "\n",
        "- Measures how two variables change together.\n",
        "- If both increase together → positive covariance.\n",
        "- If one increases while the other decreases → negative covariance.\n",
        "- But it's scale-dependent, so not ideal for comparing across datasets.\n",
        "\n",
        "**Correlation**\n",
        "\n",
        "- Standardized version of covariance.\n",
        "- Ranges from -1 to +1:\n",
        "- +1 > perfect positive linear relationship\n",
        "- 0 > no linear relationship\n",
        "- -1 > perfect negative linear relationship\n",
        "- Unitless, so it's better for interpreting strength and direction.\n"
      ],
      "metadata": {
        "id": "4QSc1Sd2sWgy"
      }
    },
    {
      "cell_type": "code",
      "source": [
        "import numpy as np\n",
        "\n",
        "# Data\n",
        "advertising_spend = [200, 250, 300, 400, 500]\n",
        "daily_sales = [2200, 2450, 2750, 3200, 4000]\n",
        "\n",
        "# Compute correlation coefficient\n",
        "correlation_matrix = np.corrcoef(advertising_spend, daily_sales)\n",
        "correlation = correlation_matrix[0][1]\n",
        "\n",
        "print(\"Correlation Coefficient:\", correlation)"
      ],
      "metadata": {
        "colab": {
          "base_uri": "https://localhost:8080/"
        },
        "id": "_JgkgjccsC8j",
        "outputId": "8d39d3cf-8480-460d-b194-c79bc87d4acd"
      },
      "execution_count": 4,
      "outputs": [
        {
          "output_type": "stream",
          "name": "stdout",
          "text": [
            "Correlation Coefficient: 0.9935824101653329\n"
          ]
        }
      ]
    },
    {
      "cell_type": "code",
      "source": [],
      "metadata": {
        "id": "dvPqDO3ltMcj"
      },
      "execution_count": null,
      "outputs": []
    },
    {
      "cell_type": "markdown",
      "source": [
        "**Question 9:** Your team has collected customer satisfaction survey data on a scale of 1-10 and wants to understand its distribution before launching a new product.\n",
        "\n",
        "● Explain which summary statistics and visualizations (e.g. mean, standard\n",
        "deviation, histogram) you’d use.\n",
        "\n",
        "● Write Python code to create a histogram using Matplotlib for the survey data:\n",
        "\n",
        "survey_scores = [7, 8, 5, 9, 6, 7, 8, 9, 10, 4, 7, 6, 9, 8, 7]"
      ],
      "metadata": {
        "id": "HEfX_1AEtQHd"
      }
    },
    {
      "cell_type": "markdown",
      "source": [
        "**ANSWERS :**\n",
        "\n",
        "**Summary Statistics to Use**\n",
        "\n",
        "To understand the distribution of customer satisfaction scores (scale 1–10), you'd want:\n",
        "- Mean: Average score — gives a central tendency.\n",
        "- Median: Middle value — useful if data is skewed.\n",
        "- Mode: Most frequent score — shows common sentiment.\n",
        "- Standard Deviation: Measures spread — tells how varied responses are.\n",
        "- Min/Max: Range of satisfaction — shows extremes.\n"
      ],
      "metadata": {
        "id": "C9yDONg8thJk"
      }
    },
    {
      "cell_type": "code",
      "source": [
        "import matplotlib.pyplot as plt\n",
        "\n",
        "# Survey data\n",
        "survey_scores = [7, 8, 5, 9, 6, 7, 8, 9, 10, 4, 7, 6, 9, 8, 7]\n",
        "\n",
        "# Create histogram\n",
        "plt.figure(figsize=(8, 5))\n",
        "plt.hist(survey_scores, bins=7, color='darkgreen', edgecolor='black')\n",
        "\n",
        "# Add labels and title\n",
        "plt.title(\"Customer Satisfaction Score Distribution\")\n",
        "plt.xlabel(\"Satisfaction Score (1–10)\")\n",
        "plt.ylabel(\"Number of Responses\")\n",
        "\n",
        "plt.grid(True, linestyle='--', alpha=0.5)\n",
        "plt.show()"
      ],
      "metadata": {
        "colab": {
          "base_uri": "https://localhost:8080/",
          "height": 487
        },
        "id": "ZceR5teGtcgR",
        "outputId": "87beec8e-8c36-4155-ed93-22b2aa9642bb"
      },
      "execution_count": 5,
      "outputs": [
        {
          "output_type": "display_data",
          "data": {
            "text/plain": [
              "<Figure size 800x500 with 1 Axes>"
            ],
            "image/png": "[encoded data removed]"
          },
          "metadata": {}
        }
      ]
    },
    {
      "cell_type": "code",
      "source": [],
      "metadata": {
        "id": "MfPYCQqBt88n"
      },
      "execution_count": null,
      "outputs": []
    }
  ]
}